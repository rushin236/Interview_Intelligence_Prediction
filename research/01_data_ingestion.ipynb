{
 "cells": [
  {
   "cell_type": "markdown",
   "id": "379265c9-fcdb-45dd-ad53-9a32809de029",
   "metadata": {},
   "source": [
    "## Data Ingestion"
   ]
  },
  {
   "cell_type": "code",
   "execution_count": 1,
   "id": "a927e034-e40a-4255-a3a8-2b4eef1f4ee3",
   "metadata": {},
   "outputs": [
    {
     "data": {
      "text/plain": [
       "'d:\\\\Imarticus_Learning\\\\Hackathon\\\\Interview_Intelligence_Prediction\\\\research'"
      ]
     },
     "execution_count": 1,
     "metadata": {},
     "output_type": "execute_result"
    }
   ],
   "source": [
    "%pwd"
   ]
  },
  {
   "cell_type": "code",
   "execution_count": 2,
   "id": "81672529-3c11-46a3-a3d1-cd1160ee2e4d",
   "metadata": {},
   "outputs": [],
   "source": [
    "import os"
   ]
  },
  {
   "cell_type": "code",
   "execution_count": 3,
   "id": "900fdb33-3d45-4e4d-8dbe-451bb4ea9772",
   "metadata": {},
   "outputs": [],
   "source": [
    "os.chdir(\"../\")"
   ]
  },
  {
   "cell_type": "code",
   "execution_count": 4,
   "id": "75be8d65-3da1-445e-af32-c58e5ccac554",
   "metadata": {},
   "outputs": [
    {
     "data": {
      "text/plain": [
       "'d:\\\\Imarticus_Learning\\\\Hackathon\\\\Interview_Intelligence_Prediction'"
      ]
     },
     "execution_count": 4,
     "metadata": {},
     "output_type": "execute_result"
    }
   ],
   "source": [
    "%pwd"
   ]
  },
  {
   "cell_type": "code",
   "execution_count": 5,
   "id": "d85f6ecd-a86a-48d2-9d2f-6e909d4fbaf7",
   "metadata": {},
   "outputs": [],
   "source": [
    "from dataclasses import dataclass\n",
    "from pathlib import Path"
   ]
  },
  {
   "cell_type": "code",
   "execution_count": 6,
   "id": "2e9be1fd-566a-45e9-bd61-ad8e790d9bb6",
   "metadata": {},
   "outputs": [],
   "source": [
    "@dataclass\n",
    "class DataIngestionConfig:\n",
    "    root_dir: Path\n",
    "    source_URL: str\n",
    "    local_data_file: Path\n",
    "    unzip_dir: Path"
   ]
  },
  {
   "cell_type": "code",
   "execution_count": 7,
   "id": "20722ae3-10c2-45aa-859a-92358430367a",
   "metadata": {},
   "outputs": [],
   "source": [
    "from interviewIntelligence.constants import *\n",
    "from interviewIntelligence.utils.common import read_yaml, create_directries\n",
    "from interviewIntelligence.logging import logger"
   ]
  },
  {
   "cell_type": "code",
   "execution_count": 8,
   "id": "803f69cb-242e-4faa-aa8a-f4c90a073e38",
   "metadata": {},
   "outputs": [],
   "source": [
    "class ConfigurationManager:\n",
    "    def __init__(self, config_file_path=CONFIG_FILE_PATH, params_file_path=PARAMS_FILE_PATH):\n",
    "        self.config = read_yaml(config_file_path)\n",
    "        self.params = read_yaml(params_file_path)\n",
    "        \n",
    "        create_directries([self.config.artifacts_root])\n",
    "\n",
    "    def get_data_ingestion_config(self) -> DataIngestionConfig:\n",
    "        config = self.config.data_ingestion\n",
    "        \n",
    "        data_ingestion_config = DataIngestionConfig(\n",
    "            root_dir=config.root_dir,\n",
    "            source_URL=config.source_URL,\n",
    "            local_data_file=config.local_data_file,\n",
    "            unzip_dir=config.unzip_dir\n",
    "        )\n",
    "        \n",
    "        return data_ingestion_config"
   ]
  },
  {
   "cell_type": "code",
   "execution_count": 9,
   "id": "8b79c5ed-4e96-4a94-a250-4138a24060f1",
   "metadata": {},
   "outputs": [],
   "source": [
    "import zipfile \n",
    "import urllib.request as requests"
   ]
  },
  {
   "cell_type": "code",
   "execution_count": 10,
   "metadata": {},
   "outputs": [],
   "source": [
    "class DataIngestion:\n",
    "    def __init__(self, config:DataIngestionConfig):\n",
    "        self.config = config\n",
    "\n",
    "    def download_file(self):\n",
    "        try:\n",
    "            create_directries([self.config.root_dir])\n",
    "            \n",
    "            if not os.path.exists(self.config.local_data_file):\n",
    "                file_name, header = requests.urlretrieve(\n",
    "                    self.config.source_URL,\n",
    "                    self.config.local_data_file\n",
    "                )\n",
    "                logger.info(f\"{file_name} downloaded with following info {header}.\")\n",
    "            else:\n",
    "                logger.info(\"File already exists\")\n",
    "        except Exception as e:\n",
    "            raise e\n",
    "\n",
    "    def extract_zip_file(self):\n",
    "        try:\n",
    "            unzip_path = self.config.unzip_dir\n",
    "            os.makedirs(self.config.unzip_dir, exist_ok=True)\n",
    "            with zipfile.ZipFile(self.config.local_data_file, \"r\") as zip_ref:\n",
    "                zip_ref.extractall(unzip_path)    \n",
    "        except Exception as e:\n",
    "            raise e"
   ]
  },
  {
   "cell_type": "code",
   "execution_count": 11,
   "metadata": {},
   "outputs": [
    {
     "name": "stdout",
     "output_type": "stream",
     "text": [
      "[2023-11-03 16:35:18,608]: INFO common Created directory at: artifacts\n",
      "[2023-11-03 16:35:18,609]: INFO common Created directory at: artifacts/data_ingestion\n",
      "[2023-11-03 16:35:19,809]: INFO 2376431056 artifacts/data_ingestion/data.zip downloaded with following info Connection: close\n",
      "Content-Length: 320163\n",
      "Cache-Control: max-age=300\n",
      "Content-Security-Policy: default-src 'none'; style-src 'unsafe-inline'; sandbox\n",
      "Content-Type: application/zip\n",
      "ETag: \"02ba62163b027c92eecc85676fbcd82647180cd2db8d52d48609c2b691c55387\"\n",
      "Strict-Transport-Security: max-age=31536000\n",
      "X-Content-Type-Options: nosniff\n",
      "X-Frame-Options: deny\n",
      "X-XSS-Protection: 1; mode=block\n",
      "X-GitHub-Request-Id: 8A8A:3F9275:5C5A:8671:6544D3F3\n",
      "Accept-Ranges: bytes\n",
      "Date: Fri, 03 Nov 2023 11:05:24 GMT\n",
      "Via: 1.1 varnish\n",
      "X-Served-By: cache-hyd1100032-HYD\n",
      "X-Cache: MISS\n",
      "X-Cache-Hits: 0\n",
      "X-Timer: S1699009524.992500,VS0,VE358\n",
      "Vary: Authorization,Accept-Encoding,Origin\n",
      "Access-Control-Allow-Origin: *\n",
      "Cross-Origin-Resource-Policy: cross-origin\n",
      "X-Fastly-Request-ID: f5ec5ce43ba67e4a2b1527e17bee97c52d2849c8\n",
      "Expires: Fri, 03 Nov 2023 11:10:24 GMT\n",
      "Source-Age: 0\n",
      "\n",
      ".\n"
     ]
    }
   ],
   "source": [
    "try:\n",
    "    config = ConfigurationManager()\n",
    "    data_ingestion_config = config.get_data_ingestion_config()\n",
    "    data_ingestion = DataIngestion(config=data_ingestion_config)\n",
    "    data_ingestion.download_file()\n",
    "    data_ingestion.extract_zip_file()\n",
    "except Exception as e:\n",
    "    raise e"
   ]
  },
  {
   "cell_type": "code",
   "execution_count": null,
   "metadata": {},
   "outputs": [],
   "source": []
  }
 ],
 "metadata": {
  "kernelspec": {
   "display_name": "Python 3 (ipykernel)",
   "language": "python",
   "name": "python3"
  },
  "language_info": {
   "codemirror_mode": {
    "name": "ipython",
    "version": 3
   },
   "file_extension": ".py",
   "mimetype": "text/x-python",
   "name": "python",
   "nbconvert_exporter": "python",
   "pygments_lexer": "ipython3",
   "version": "3.8.18"
  }
 },
 "nbformat": 4,
 "nbformat_minor": 5
}
